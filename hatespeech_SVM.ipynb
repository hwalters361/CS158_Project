{
  "nbformat": 4,
  "nbformat_minor": 0,
  "metadata": {
    "colab": {
      "provenance": []
    },
    "kernelspec": {
      "name": "python3",
      "display_name": "Python 3"
    },
    "language_info": {
      "name": "python"
    }
  },
  "cells": [
    {
      "cell_type": "code",
      "execution_count": 59,
      "metadata": {
        "id": "gqkm9Blpr3I_",
        "colab": {
          "base_uri": "https://localhost:8080/"
        },
        "outputId": "3cb6562b-6a42-4110-b454-ee01d81fc314"
      },
      "outputs": [
        {
          "output_type": "stream",
          "name": "stderr",
          "text": [
            "[nltk_data] Downloading package punkt to /root/nltk_data...\n",
            "[nltk_data]   Package punkt is already up-to-date!\n",
            "[nltk_data] Downloading package wordnet to /root/nltk_data...\n",
            "[nltk_data]   Package wordnet is already up-to-date!\n",
            "[nltk_data] Downloading package averaged_perceptron_tagger to\n",
            "[nltk_data]     /root/nltk_data...\n",
            "[nltk_data]   Package averaged_perceptron_tagger is already up-to-\n",
            "[nltk_data]       date!\n",
            "[nltk_data] Downloading package stopwords to /root/nltk_data...\n",
            "[nltk_data]   Package stopwords is already up-to-date!\n"
          ]
        }
      ],
      "source": [
        "import pandas as pd\n",
        "import numpy as np\n",
        "import seaborn as sns\n",
        "import random\n",
        "\n",
        "import nltk\n",
        "nltk.download('punkt')\n",
        "nltk.download('wordnet')\n",
        "nltk.download('averaged_perceptron_tagger')\n",
        "nltk.download('stopwords')\n",
        "from nltk.tokenize import word_tokenize\n",
        "from nltk import pos_tag\n",
        "from nltk.corpus import stopwords\n",
        "from nltk.corpus import wordnet as wn\n",
        "from nltk.stem import WordNetLemmatizer\n",
        "\n",
        "from collections import defaultdict\n",
        "\n",
        "from sklearn import model_selection, naive_bayes, svm, datasets\n",
        "from sklearn.preprocessing import LabelEncoder\n",
        "from sklearn.feature_extraction.text import TfidfVectorizer\n",
        "from sklearn.model_selection import cross_val_score, KFold\n",
        "from sklearn.svm import SVC\n",
        "from sklearn.metrics import accuracy_score, classification_report, confusion_matrix, ConfusionMatrixDisplay\n",
        "\n",
        "from yellowbrick.classifier import ClassPredictionError\n",
        "\n",
        "import matplotlib.pyplot as plt\n",
        "from matplotlib.pyplot import savefig\n",
        "%matplotlib inline"
      ]
    },
    {
      "cell_type": "code",
      "source": [
        "# read in & format data\n",
        "data = 'hatespeech_dataset.csv'\n",
        "\n",
        "df = pd.read_csv(data)\n",
        "df=df[['class', 'tweet']]\n",
        "\n",
        "df.info()"
      ],
      "metadata": {
        "id": "EYVNPSPzsLJn",
        "colab": {
          "base_uri": "https://localhost:8080/"
        },
        "outputId": "b9d762db-bcf9-4925-ec7b-deebcbf1bf30"
      },
      "execution_count": 49,
      "outputs": [
        {
          "output_type": "stream",
          "name": "stdout",
          "text": [
            "<class 'pandas.core.frame.DataFrame'>\n",
            "RangeIndex: 24783 entries, 0 to 24782\n",
            "Data columns (total 2 columns):\n",
            " #   Column  Non-Null Count  Dtype \n",
            "---  ------  --------------  ----- \n",
            " 0   class   24783 non-null  int64 \n",
            " 1   tweet   24783 non-null  object\n",
            "dtypes: int64(1), object(1)\n",
            "memory usage: 387.4+ KB\n"
          ]
        }
      ]
    },
    {
      "cell_type": "code",
      "source": [
        "# text preprocessing\n",
        "# 1. Removing Blank Spaces\n",
        "df['tweet'].dropna(inplace=True)\n",
        "# 2. Changing all text to lowercase\n",
        "df['tweet_og'] = df['tweet']\n",
        "df['tweet'] = [entry.lower() for entry in df['tweet']]\n",
        "# 3. Tokenization-In this each entry in the corpus will be broken into set of words\n",
        "df['tweet']= [word_tokenize(entry) for entry in df['tweet']]\n",
        "# 4. Remove Stop words, Non-Numeric and perfoming Word Stemming/Lemmenting.\n",
        "# WordNetLemmatizer requires Pos tags to understand if the word is noun or verb or adjective etc. By default it is set to Noun\n",
        "tag_map = defaultdict(lambda : wn.NOUN)\n",
        "tag_map['J'] = wn.ADJ\n",
        "tag_map['V'] = wn.VERB\n",
        "tag_map['R'] = wn.ADV\n",
        "\n",
        "for index,entry in enumerate(df['tweet']):\n",
        "    # Declaring Empty List to store the words that follow the rules for this step\n",
        "    Final_words = []\n",
        "    # Initializing WordNetLemmatizer()\n",
        "    word_Lemmatized = WordNetLemmatizer()\n",
        "    # pos_tag function below will provide the 'tag' i.e if the word is Noun(N) or Verb(V) or something else.\n",
        "    for word, tag in pos_tag(entry):\n",
        "        # Below condition is to check for Stop words and consider only alphabets\n",
        "        if word not in stopwords.words('english') and word not in ['!', '@', 'rt'] and word.isalpha():\n",
        "            word_Final = word_Lemmatized.lemmatize(word,tag_map[tag[0]])\n",
        "            Final_words.append(word_Final)\n",
        "    # The final processed set of words for each iteration will be stored in 'text_final'\n",
        "    df.loc[index,'tweet_processed'] = str(Final_words)\n",
        "\n",
        "df.drop(['tweet'], axis=1)\n",
        "output_path = 'preprocessed_data.csv'\n",
        "df.to_csv(output_path, index=False)"
      ],
      "metadata": {
        "id": "UicKcj6svgX5"
      },
      "execution_count": null,
      "outputs": []
    },
    {
      "cell_type": "code",
      "source": [
        "X_train, X_test, y_train, y_test = model_selection.train_test_split(df['tweet_processed'],df['class'], train_size=0.80, test_size=0.20, random_state=101)\n",
        "\n",
        "Encoder = LabelEncoder()\n",
        "y_train = Encoder.fit_transform(y_train)\n",
        "y_test = Encoder.fit_transform(y_test)"
      ],
      "metadata": {
        "id": "8hYRFO3iXEfo"
      },
      "execution_count": 51,
      "outputs": []
    },
    {
      "cell_type": "code",
      "source": [
        "Tfidf_vect = TfidfVectorizer()\n",
        "Tfidf_vect.fit(df['tweet_processed'])\n",
        "Train_X_Tfidf = Tfidf_vect.transform(X_train)\n",
        "Test_X_Tfidf = Tfidf_vect.transform(X_test)\n",
        "\n",
        "# print(Tfidf_vect.vocabulary_)"
      ],
      "metadata": {
        "id": "ycoTs3U8yV7D"
      },
      "execution_count": 52,
      "outputs": []
    },
    {
      "cell_type": "code",
      "source": [
        "rbf = svm.SVC(kernel='rbf', gamma='auto', C=0.1)\n",
        "rbf.fit(Train_X_Tfidf,y_train)\n",
        "rbf_pred = rbf.predict(Test_X_Tfidf)\n",
        "print(\"RBF kernel SVM Accuracy Score -> \",accuracy_score(rbf_pred, y_test)*100)\n",
        "print(classification_report(y_test,rbf_pred))"
      ],
      "metadata": {
        "id": "cSJI_G75XM_g",
        "colab": {
          "base_uri": "https://localhost:8080/"
        },
        "outputId": "4b6afeb6-a8f0-4570-995e-90aaec7acfa6"
      },
      "execution_count": 53,
      "outputs": [
        {
          "output_type": "stream",
          "name": "stdout",
          "text": [
            "RBF kernel SVM Accuracy Score ->  77.56707686100464\n",
            "              precision    recall  f1-score   support\n",
            "\n",
            "           0       0.00      0.00      0.00       292\n",
            "           1       0.78      1.00      0.87      3845\n",
            "           2       0.00      0.00      0.00       820\n",
            "\n",
            "    accuracy                           0.78      4957\n",
            "   macro avg       0.26      0.33      0.29      4957\n",
            "weighted avg       0.60      0.78      0.68      4957\n",
            "\n"
          ]
        },
        {
          "output_type": "stream",
          "name": "stderr",
          "text": [
            "/usr/local/lib/python3.10/dist-packages/sklearn/metrics/_classification.py:1344: UndefinedMetricWarning: Precision and F-score are ill-defined and being set to 0.0 in labels with no predicted samples. Use `zero_division` parameter to control this behavior.\n",
            "  _warn_prf(average, modifier, msg_start, len(result))\n",
            "/usr/local/lib/python3.10/dist-packages/sklearn/metrics/_classification.py:1344: UndefinedMetricWarning: Precision and F-score are ill-defined and being set to 0.0 in labels with no predicted samples. Use `zero_division` parameter to control this behavior.\n",
            "  _warn_prf(average, modifier, msg_start, len(result))\n",
            "/usr/local/lib/python3.10/dist-packages/sklearn/metrics/_classification.py:1344: UndefinedMetricWarning: Precision and F-score are ill-defined and being set to 0.0 in labels with no predicted samples. Use `zero_division` parameter to control this behavior.\n",
            "  _warn_prf(average, modifier, msg_start, len(result))\n"
          ]
        }
      ]
    },
    {
      "cell_type": "code",
      "source": [
        "poly = svm.SVC(kernel='poly', degree=3, C=1)\n",
        "poly.fit(Train_X_Tfidf,y_train)\n",
        "poly_pred = poly.predict(Test_X_Tfidf)\n",
        "print(\" Polynomial kernel SVM Accuracy Score -> \",accuracy_score(poly_pred, y_test)*100)\n",
        "print(classification_report(y_test,poly_pred))"
      ],
      "metadata": {
        "id": "TPxR3gASZLBg",
        "colab": {
          "base_uri": "https://localhost:8080/"
        },
        "outputId": "d4047bb4-14e6-4a5c-b460-dfa6db915cfe"
      },
      "execution_count": 54,
      "outputs": [
        {
          "output_type": "stream",
          "name": "stdout",
          "text": [
            " Polynomial kernel SVM Accuracy Score ->  78.99939479523906\n",
            "              precision    recall  f1-score   support\n",
            "\n",
            "           0       0.67      0.03      0.07       292\n",
            "           1       0.79      1.00      0.88      3845\n",
            "           2       0.90      0.09      0.16       820\n",
            "\n",
            "    accuracy                           0.79      4957\n",
            "   macro avg       0.79      0.37      0.37      4957\n",
            "weighted avg       0.80      0.79      0.71      4957\n",
            "\n"
          ]
        }
      ]
    },
    {
      "cell_type": "code",
      "source": [
        "# Classifier - Algorithm - SVM\n",
        "# fit the training dataset on the classifier\n",
        "lin = svm.SVC(C=1.0, kernel='linear')\n",
        "lin.fit(Train_X_Tfidf,y_train)\n",
        "# predict the labels on validation dataset\n",
        "lin_pred = lin.predict(Test_X_Tfidf)\n",
        "# Use accuracy_score function to get the accuracy\n",
        "print(\"linear kernel SVM Accuracy Score -> \",accuracy_score(lin_pred, y_test)*100)\n",
        "print(classification_report(y_test,lin_pred))"
      ],
      "metadata": {
        "colab": {
          "base_uri": "https://localhost:8080/"
        },
        "id": "oUi3BP05y0Hn",
        "outputId": "fce9ed73-2dcd-46ad-d5e1-897b22abaecd"
      },
      "execution_count": 55,
      "outputs": [
        {
          "output_type": "stream",
          "name": "stdout",
          "text": [
            "linear kernel SVM Accuracy Score ->  91.0026225539641\n",
            "              precision    recall  f1-score   support\n",
            "\n",
            "           0       0.65      0.18      0.28       292\n",
            "           1       0.93      0.96      0.95      3845\n",
            "           2       0.84      0.92      0.88       820\n",
            "\n",
            "    accuracy                           0.91      4957\n",
            "   macro avg       0.81      0.69      0.70      4957\n",
            "weighted avg       0.90      0.91      0.90      4957\n",
            "\n"
          ]
        }
      ]
    },
    {
      "cell_type": "code",
      "source": [
        "ConfusionMatrixDisplay.from_predictions(y_test, lin_pred, cmap='Blues')"
      ],
      "metadata": {
        "colab": {
          "base_uri": "https://localhost:8080/",
          "height": 520
        },
        "id": "bTYYM6WT1RLN",
        "outputId": "777ae107-cf45-440b-eb7b-dfce21f5f128"
      },
      "execution_count": 56,
      "outputs": [
        {
          "output_type": "execute_result",
          "data": {
            "text/plain": [
              "<sklearn.metrics._plot.confusion_matrix.ConfusionMatrixDisplay at 0x798aee0866b0>"
            ]
          },
          "metadata": {},
          "execution_count": 56
        },
        {
          "output_type": "display_data",
          "data": {
            "text/plain": [
              "<Figure size 800x550 with 2 Axes>"
            ],
            "image/png": "[encoded data removed]"
          },
          "metadata": {}
        }
      ]
    },
    {
      "cell_type": "code",
      "source": [
        "# Instantiate the classification model and visualizer\n",
        "visualizer = ClassPredictionError(\n",
        "    lin, classes=Encoder.classes_\n",
        ")\n",
        "\n",
        "# Fit the training data to the visualizer\n",
        "visualizer.fit(Train_X_Tfidf,y_train)\n",
        "\n",
        "# Evaluate the model on the test data\n",
        "visualizer.score(Test_X_Tfidf, y_test)\n",
        "\n",
        "# Draw visualization\n",
        "g = visualizer.poof()"
      ],
      "metadata": {
        "id": "oABP2VQazEiK",
        "colab": {
          "base_uri": "https://localhost:8080/",
          "height": 551
        },
        "outputId": "4fae586b-677d-4338-e357-d380ad2cb9a9"
      },
      "execution_count": 58,
      "outputs": [
        {
          "output_type": "display_data",
          "data": {
            "text/plain": [
              "<Figure size 800x550 with 1 Axes>"
            ],
            "image/png": "[encoded data removed]"
          },
          "metadata": {}
        }
      ]
    }
  ]
}